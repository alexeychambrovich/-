{
  "nbformat": 4,
  "nbformat_minor": 0,
  "metadata": {
    "colab": {
      "provenance": [],
      "authorship_tag": "ABX9TyMiEUPgYn/iYNbOTLHmc/0M",
      "include_colab_link": true
    },
    "kernelspec": {
      "name": "python3",
      "display_name": "Python 3"
    },
    "language_info": {
      "name": "python"
    }
  },
  "cells": [
    {
      "cell_type": "markdown",
      "metadata": {
        "id": "view-in-github",
        "colab_type": "text"
      },
      "source": [
        "<a href=\"https://colab.research.google.com/github/alexeychambrovich/-/blob/main/%D0%9F%D1%80%D0%B0%D0%BA%D1%82%D0%B8%D1%87%D0%B5%D1%81%D0%BA%D0%BE%D0%B5_%D0%B7%D0%B0%D0%B4%D0%B0%D0%BD%D0%B8%D0%B5_%D1%81%D0%B5%D0%BC%D0%B8%D0%BD%D0%B0%D1%803.ipynb\" target=\"_parent\"><img src=\"https://colab.research.google.com/assets/colab-badge.svg\" alt=\"Open In Colab\"/></a>"
      ]
    },
    {
      "cell_type": "markdown",
      "source": [
        "Задача 1. Даны значения зарплат из выборки выпускников: 100, 80, 75, 77, 89, 33, 45, 25, 65, 17, 30, 24, 57, 55, 70, 75, 65, 84, 90, 150. Посчитать (желательно без использования статистических методов наподобие std, var, mean) среднее арифметическое, среднее квадратичное отклонение, смещенную и несмещенную оценки дисперсий для данной выборки."
      ],
      "metadata": {
        "id": "SbuYUCoZfIPQ"
      }
    },
    {
      "cell_type": "code",
      "source": [
        "import pandas as pd\n",
        "import numpy as np\n",
        "from math import factorial as fl"
      ],
      "metadata": {
        "id": "slr_LD2pf8DF"
      },
      "execution_count": 1,
      "outputs": []
    },
    {
      "cell_type": "code",
      "source": [
        "data = pd.Series([100, 80, 75, 77, 89, 33, 45, 25, 65, 17, 30, 24, 57, 55, 70, 75, 65, 84, 90, 150])"
      ],
      "metadata": {
        "id": "kB9j1_etgNqO"
      },
      "execution_count": 5,
      "outputs": []
    },
    {
      "cell_type": "markdown",
      "source": [
        "Расчет арифмитичекого среднего"
      ],
      "metadata": {
        "id": "qlORRl4HhFWs"
      }
    },
    {
      "cell_type": "code",
      "source": [
        "aver = data.sum() / data.count()\n",
        "print (aver)"
      ],
      "metadata": {
        "colab": {
          "base_uri": "https://localhost:8080/"
        },
        "id": "C6ibJHVggeW0",
        "outputId": "c0b6d652-e14a-4f49-e7c4-c09b5ba81288"
      },
      "execution_count": 7,
      "outputs": [
        {
          "output_type": "stream",
          "name": "stdout",
          "text": [
            "65.3\n"
          ]
        }
      ]
    },
    {
      "cell_type": "markdown",
      "source": [
        "Расчет среднеквадратичного отклонения"
      ],
      "metadata": {
        "id": "ahTCQLjyhXQr"
      }
    },
    {
      "cell_type": "code",
      "source": [
        "SD = np.sqrt(((data - aver) ** 2).sum() / data.count())\n",
        "print (SD)"
      ],
      "metadata": {
        "colab": {
          "base_uri": "https://localhost:8080/"
        },
        "id": "FuNBcEjLg6aM",
        "outputId": "5befd1ff-ff65-4fe8-f1ba-73f0a1972bcf"
      },
      "execution_count": 9,
      "outputs": [
        {
          "output_type": "stream",
          "name": "stdout",
          "text": [
            "30.823854398825596\n"
          ]
        }
      ]
    },
    {
      "cell_type": "markdown",
      "source": [
        "Расчет смещенную и несмещенную оценки дисперсий для данной выборки"
      ],
      "metadata": {
        "id": "TGEB6C94hm8D"
      }
    },
    {
      "cell_type": "code",
      "source": [
        "variance = ((data - aver) ** 2).sum() / data.count()\n",
        "print (variance)"
      ],
      "metadata": {
        "colab": {
          "base_uri": "https://localhost:8080/"
        },
        "id": "NozVXMlzhsyb",
        "outputId": "e16c2d47-f09c-45d0-bd9c-95eec54730af"
      },
      "execution_count": 10,
      "outputs": [
        {
          "output_type": "stream",
          "name": "stdout",
          "text": [
            "950.11\n"
          ]
        }
      ]
    },
    {
      "cell_type": "code",
      "source": [
        "variance2 = ((data - aver) ** 2).sum() / (data.count() - 1)\n",
        "print (variance2)"
      ],
      "metadata": {
        "colab": {
          "base_uri": "https://localhost:8080/"
        },
        "id": "KQlrb_8rh8cs",
        "outputId": "811ac065-f60c-46d8-e3ea-5beacc537d39"
      },
      "execution_count": 11,
      "outputs": [
        {
          "output_type": "stream",
          "name": "stdout",
          "text": [
            "1000.1157894736842\n"
          ]
        }
      ]
    },
    {
      "cell_type": "markdown",
      "source": [
        "Задача 2. В первом ящике находится 8 мячей, из которых 5 - белые. Во втором ящике - 12 мячей, из которых 5 белых. Из первого ящика вытаскивают случайным образом два мяча, из второго - 4 мяча. Какова вероятность того, что 3 мяча белые?"
      ],
      "metadata": {
        "id": "2MtmYdnOiRK6"
      }
    },
    {
      "cell_type": "code",
      "source": [],
      "metadata": {
        "id": "5lcGkr6hiSWr"
      },
      "execution_count": null,
      "outputs": []
    }
  ]
}