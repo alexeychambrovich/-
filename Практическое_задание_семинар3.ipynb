{
  "nbformat": 4,
  "nbformat_minor": 0,
  "metadata": {
    "colab": {
      "provenance": [],
      "authorship_tag": "ABX9TyP5VngCnkaMAaJIwU7E9+4L",
      "include_colab_link": true
    },
    "kernelspec": {
      "name": "python3",
      "display_name": "Python 3"
    },
    "language_info": {
      "name": "python"
    }
  },
  "cells": [
    {
      "cell_type": "markdown",
      "metadata": {
        "id": "view-in-github",
        "colab_type": "text"
      },
      "source": [
        "<a href=\"https://colab.research.google.com/github/alexeychambrovich/-/blob/main/%D0%9F%D1%80%D0%B0%D0%BA%D1%82%D0%B8%D1%87%D0%B5%D1%81%D0%BA%D0%BE%D0%B5_%D0%B7%D0%B0%D0%B4%D0%B0%D0%BD%D0%B8%D0%B5_%D1%81%D0%B5%D0%BC%D0%B8%D0%BD%D0%B0%D1%803.ipynb\" target=\"_parent\"><img src=\"https://colab.research.google.com/assets/colab-badge.svg\" alt=\"Open In Colab\"/></a>"
      ]
    },
    {
      "cell_type": "markdown",
      "source": [
        "Задача 1. Даны значения зарплат из выборки выпускников: 100, 80, 75, 77, 89, 33, 45, 25, 65, 17, 30, 24, 57, 55, 70, 75, 65, 84, 90, 150. Посчитать (желательно без использования статистических методов наподобие std, var, mean) среднее арифметическое, среднее квадратичное отклонение, смещенную и несмещенную оценки дисперсий для данной выборки."
      ],
      "metadata": {
        "id": "SbuYUCoZfIPQ"
      }
    },
    {
      "cell_type": "code",
      "source": [
        "import pandas as pd\n",
        "import numpy as np\n",
        "from math import factorial as fl"
      ],
      "metadata": {
        "id": "slr_LD2pf8DF"
      },
      "execution_count": 1,
      "outputs": []
    },
    {
      "cell_type": "code",
      "source": [
        "data = pd.Series([100, 80, 75, 77, 89, 33, 45, 25, 65, 17, 30, 24, 57, 55, 70, 75, 65, 84, 90, 150])"
      ],
      "metadata": {
        "id": "kB9j1_etgNqO"
      },
      "execution_count": 5,
      "outputs": []
    },
    {
      "cell_type": "markdown",
      "source": [
        "Расчет арифмитичекого среднего"
      ],
      "metadata": {
        "id": "qlORRl4HhFWs"
      }
    },
    {
      "cell_type": "code",
      "source": [
        "aver = data.sum() / data.count()\n",
        "print (aver)"
      ],
      "metadata": {
        "colab": {
          "base_uri": "https://localhost:8080/"
        },
        "id": "C6ibJHVggeW0",
        "outputId": "c0b6d652-e14a-4f49-e7c4-c09b5ba81288"
      },
      "execution_count": 7,
      "outputs": [
        {
          "output_type": "stream",
          "name": "stdout",
          "text": [
            "65.3\n"
          ]
        }
      ]
    },
    {
      "cell_type": "markdown",
      "source": [
        "Расчет среднеквадратичного отклонения"
      ],
      "metadata": {
        "id": "ahTCQLjyhXQr"
      }
    },
    {
      "cell_type": "code",
      "source": [
        "SD = np.sqrt(((data - aver) ** 2).sum() / data.count())\n",
        "print (SD)"
      ],
      "metadata": {
        "colab": {
          "base_uri": "https://localhost:8080/"
        },
        "id": "FuNBcEjLg6aM",
        "outputId": "5befd1ff-ff65-4fe8-f1ba-73f0a1972bcf"
      },
      "execution_count": 9,
      "outputs": [
        {
          "output_type": "stream",
          "name": "stdout",
          "text": [
            "30.823854398825596\n"
          ]
        }
      ]
    },
    {
      "cell_type": "markdown",
      "source": [
        "Расчет смещенную и несмещенную оценки дисперсий для данной выборки"
      ],
      "metadata": {
        "id": "TGEB6C94hm8D"
      }
    },
    {
      "cell_type": "code",
      "source": [
        "variance = ((data - aver) ** 2).sum() / data.count()\n",
        "print (variance)"
      ],
      "metadata": {
        "colab": {
          "base_uri": "https://localhost:8080/"
        },
        "id": "NozVXMlzhsyb",
        "outputId": "e16c2d47-f09c-45d0-bd9c-95eec54730af"
      },
      "execution_count": 10,
      "outputs": [
        {
          "output_type": "stream",
          "name": "stdout",
          "text": [
            "950.11\n"
          ]
        }
      ]
    },
    {
      "cell_type": "code",
      "source": [
        "variance2 = ((data - aver) ** 2).sum() / (data.count() - 1)\n",
        "print (variance2)"
      ],
      "metadata": {
        "colab": {
          "base_uri": "https://localhost:8080/"
        },
        "id": "KQlrb_8rh8cs",
        "outputId": "811ac065-f60c-46d8-e3ea-5beacc537d39"
      },
      "execution_count": 11,
      "outputs": [
        {
          "output_type": "stream",
          "name": "stdout",
          "text": [
            "1000.1157894736842\n"
          ]
        }
      ]
    },
    {
      "cell_type": "markdown",
      "source": [
        "Задача 2. В первом ящике находится 8 мячей, из которых 5 - белые. Во втором ящике - 12 мячей, из которых 5 белых. Из первого ящика вытаскивают случайным образом два мяча, из второго - 4 мяча. Какова вероятность того, что 3 мяча белые?"
      ],
      "metadata": {
        "id": "2MtmYdnOiRK6"
      }
    },
    {
      "cell_type": "markdown",
      "source": [
        "А1 - из первого ящика вынули два белых мяча\n",
        "А2 - из второго ящика вынули один белый мяч\n",
        "А3 - из первого ящика вынули один белый мяч\n",
        "А4 - из второго ящика вынули два белых мяча\n",
        "А5 - из первого ящика вынули ноль белых мячей\n",
        "А6 - из второго ящика вынули три белых мяча\n",
        "Р(А) - из ящиков вынули три белых мяча\n",
        "Р(А) = А1* А2 + А3* А4 + А5* А6"
      ],
      "metadata": {
        "id": "vbFHUyHHmI9_"
      }
    },
    {
      "cell_type": "code",
      "source": [
        "PA1 = (fl(5) / (fl(2) * fl(5 - 2))) * (fl(3) / (fl(0) * fl(3 - 0))) / (fl(8) / (fl(2) * fl(8 - 2)))\n",
        "PA2 = (fl(5) / (fl(1) * fl(5 - 1))) * (fl(7) / (fl(3) * fl(7 - 3))) / (fl(12) / (fl(4) * fl(12 - 4)))\n",
        "PA3 = (fl(5) / (fl(1) * fl(5 - 1))) * (fl(3) / (fl(1) * fl(3 - 1))) / (fl(8) / (fl(2) * fl(8 - 2)))\n",
        "PА4 = (fl(5) / (fl(2) * fl(5 - 2))) * (fl(7) / (fl(2) * fl(7 - 2))) / (fl(12) / (fl(4) * fl(12 - 4)))\n",
        "PA5 = (fl(5) / (fl(0) * fl(5 - 0))) * (fl(3) / (fl(2) * fl(3 - 2))) / (fl(8) / (fl(2) * fl(8 - 2)))\n",
        "PA6 = (fl(5) / (fl(3) * fl(5 - 3))) * (fl(7) / (fl(1) * fl(7 - 1))) / (fl(12) / (fl(4) * fl(12 - 4)))\n",
        "PA = PA1 * PA2 + PA3 * PА4 + PA5 * PA6\n",
        "print(f'Вероятность, что из ящиков вынули три белых мяча {PA}')"
      ],
      "metadata": {
        "colab": {
          "base_uri": "https://localhost:8080/"
        },
        "id": "7Qe4ofpGm7t1",
        "outputId": "9b0bbb47-cfa4-477b-bb7e-39daa68edfa4"
      },
      "execution_count": 14,
      "outputs": [
        {
          "output_type": "stream",
          "name": "stdout",
          "text": [
            "Вероятиность, что из ящиков вынули три белых мяча 0.3686868686868687\n"
          ]
        }
      ]
    },
    {
      "cell_type": "markdown",
      "source": [
        "Задача 3. На соревновании по биатлону один из трех спортсменов стреляет и попадает в мишень. Вероятность попадания для первого спортсмена равна 0.9, для второго — 0.8, для третьего — 0.6. Найти вероятность того, что выстрел произведен: a). первым спортсменом б). вторым спортсменом в). третьим спортсменом."
      ],
      "metadata": {
        "id": "RVSFqnxSoHGK"
      }
    },
    {
      "cell_type": "markdown",
      "source": [
        "А - мишень поражена\n",
        "А1 - первый стрелок попал в цель\n",
        "А2 - второй стрелок попал в цель\n",
        "А3 - третий стрелок попал в цель"
      ],
      "metadata": {
        "id": "BP-wkRo5oTiS"
      }
    },
    {
      "cell_type": "code",
      "source": [
        "PA = 1 / 3 * 0.9 + 1 / 3 * 0.8 + 1 / 3 * 0.6\n",
        "print(f'Вероятность, что мишень поражена {PA}')"
      ],
      "metadata": {
        "colab": {
          "base_uri": "https://localhost:8080/"
        },
        "id": "eKW7fkdeoXaD",
        "outputId": "5e9c9a2e-f31d-407d-892e-413693f00606"
      },
      "execution_count": 15,
      "outputs": [
        {
          "output_type": "stream",
          "name": "stdout",
          "text": [
            "Вероятность, мишень поражена 0.7666666666666666\n"
          ]
        }
      ]
    },
    {
      "cell_type": "code",
      "source": [
        "PA1 = 1 / 3 * 0.9 / PA\n",
        "print(f'Вероятность, что первый стрелок попал в цель {PA1}')"
      ],
      "metadata": {
        "colab": {
          "base_uri": "https://localhost:8080/"
        },
        "id": "kBX_yeLWo-TJ",
        "outputId": "fa13c064-365c-4906-a2be-021dcd1c2e71"
      },
      "execution_count": 16,
      "outputs": [
        {
          "output_type": "stream",
          "name": "stdout",
          "text": [
            "Вероятность, что первый стрелок попал в цель 0.391304347826087\n"
          ]
        }
      ]
    },
    {
      "cell_type": "code",
      "source": [
        "PA2 = 1 / 3 * 0.8 / PA\n",
        "print(f'Вероятность, что второй стрелок попал в цель {PA2}')"
      ],
      "metadata": {
        "colab": {
          "base_uri": "https://localhost:8080/"
        },
        "id": "G5Ei0RjdpMYK",
        "outputId": "08f9ff6d-fdf6-4668-c340-849c72c39267"
      },
      "execution_count": 17,
      "outputs": [
        {
          "output_type": "stream",
          "name": "stdout",
          "text": [
            "Вероятность, что второй стрелок попал в цель 0.3478260869565218\n"
          ]
        }
      ]
    },
    {
      "cell_type": "code",
      "source": [
        "PA3 = 1 / 3 * 0.6 / PA\n",
        "print(f'Вероятность, что третий стрелок попал в цель {PA3}')"
      ],
      "metadata": {
        "colab": {
          "base_uri": "https://localhost:8080/"
        },
        "id": "yM6H8VX7pU0p",
        "outputId": "01244868-ddc0-4041-ba47-baf0912a3060"
      },
      "execution_count": 18,
      "outputs": [
        {
          "output_type": "stream",
          "name": "stdout",
          "text": [
            "Вероятность, что третий стрелок попал в цель 0.2608695652173913\n"
          ]
        }
      ]
    },
    {
      "cell_type": "markdown",
      "source": [
        "Задача 4. В университет на факультеты A и B поступило равное количество студентов, а на факультет C студентов поступило столько же, сколько на A и B вместе. Вероятность того, что студент факультета A сдаст первую сессию, равна 0.8. Для студента факультета B эта вероятность равна 0.7, а для студента факультета C - 0.9. Студент сдал первую сессию. Какова вероятность, что он учится: a). на факультете A б). на факультете B в). на факультете C?"
      ],
      "metadata": {
        "id": "pnnl0ickpnRx"
      }
    },
    {
      "cell_type": "markdown",
      "source": [
        "А - Студент сдал первую сессию;\n",
        "А1 - студент с факультета А;\n",
        "А2 - студент с факультета В:\n",
        "А3 - студент с факультета С;"
      ],
      "metadata": {
        "id": "80zdE1UIp0rZ"
      }
    },
    {
      "cell_type": "code",
      "source": [
        "PA = 1 / 4 * 0.8 + 1 / 4 * 0.7 + 2 / 4 * 0.9\n",
        "print(f'Вероятность, что студент сдал первую сессию {PA}')"
      ],
      "metadata": {
        "colab": {
          "base_uri": "https://localhost:8080/"
        },
        "id": "Jwl-ybafp2qw",
        "outputId": "8eefebe4-3b84-4a7a-8271-dda50c16f4f1"
      },
      "execution_count": 19,
      "outputs": [
        {
          "output_type": "stream",
          "name": "stdout",
          "text": [
            "Вероятность, что студент сдал первую сессию 0.825\n"
          ]
        }
      ]
    },
    {
      "cell_type": "code",
      "source": [
        "PA1 = 1 / 4 * 0.8 / PA\n",
        "print(f'Вероятность, что  студент с факультета А  {PA1}')"
      ],
      "metadata": {
        "colab": {
          "base_uri": "https://localhost:8080/"
        },
        "id": "5YA0Om-ZqAmY",
        "outputId": "05b0541c-fe68-4125-e06f-41bf10b76cbb"
      },
      "execution_count": 20,
      "outputs": [
        {
          "output_type": "stream",
          "name": "stdout",
          "text": [
            "Вероятность, что  студент с факультета А  0.24242424242424246\n"
          ]
        }
      ]
    },
    {
      "cell_type": "code",
      "source": [
        "PA2 = 1 / 4 * 0.7 / PA\n",
        "print(f'Вероятность, что  студент с факультета В  {PA2}')"
      ],
      "metadata": {
        "colab": {
          "base_uri": "https://localhost:8080/"
        },
        "id": "O6zRARQKqL6Y",
        "outputId": "91c85aa2-8b7b-440c-8252-916b769a1225"
      },
      "execution_count": 21,
      "outputs": [
        {
          "output_type": "stream",
          "name": "stdout",
          "text": [
            "Вероятность, что  студент с факультета В  0.21212121212121213\n"
          ]
        }
      ]
    },
    {
      "cell_type": "code",
      "source": [
        "PA3 = 2 / 4 * 0.9 / PA\n",
        "print(f'Вероятность, что  студент с факультета С  {PA3}')"
      ],
      "metadata": {
        "colab": {
          "base_uri": "https://localhost:8080/"
        },
        "id": "fN3HY-6zqbWo",
        "outputId": "209eb536-5e76-4ef6-efb2-ce7cfd553039"
      },
      "execution_count": 22,
      "outputs": [
        {
          "output_type": "stream",
          "name": "stdout",
          "text": [
            "Вероятность, что  студент с факультета С  0.5454545454545455\n"
          ]
        }
      ]
    },
    {
      "cell_type": "markdown",
      "source": [
        "Задача 5. Устройство состоит из трех деталей. Для первой детали вероятность выйти из строя в первый месяц равна 0.1, для второй - 0.2, для третьей - 0.25. Какова вероятность того, что в первый месяц выйдут из строя: а). все детали б). только две детали в). хотя бы одна деталь г). от одной до двух деталей?"
      ],
      "metadata": {
        "id": "U_-_eppFqplP"
      }
    },
    {
      "cell_type": "markdown",
      "source": [
        "P(A)- из строя вышли все детали;"
      ],
      "metadata": {
        "id": "NsyFJNKDqwxv"
      }
    },
    {
      "cell_type": "code",
      "source": [
        "PA = 0.1 * 0.2 * 0.25\n",
        "print(f'Вероятность, что  из строя вышли все детали  {PA}')"
      ],
      "metadata": {
        "colab": {
          "base_uri": "https://localhost:8080/"
        },
        "id": "wpOi27zyq3Vv",
        "outputId": "e8d30f6c-7f46-4387-a64e-389919d934d1"
      },
      "execution_count": 23,
      "outputs": [
        {
          "output_type": "stream",
          "name": "stdout",
          "text": [
            "Вероятность, что  из строя вышли все детали  0.005000000000000001\n"
          ]
        }
      ]
    },
    {
      "cell_type": "markdown",
      "source": [
        "Р(B1) - из строя вышли первая и вторая деталь, но не вышла третья;\n",
        "Р(B2) - из строя вышла первая и третья деталь, но не вышла вторая;\n",
        "Р(B3) - из строя вышла вторая и третья деталь, но не вышла первая;\n",
        "Р(В) = Р(B1) + Р(B2) + Р(B3) - из строя вышло только две детали"
      ],
      "metadata": {
        "id": "Q-lVbL5QrFr3"
      }
    },
    {
      "cell_type": "code",
      "source": [
        "PB = (0.1*0.2*(1-0.25))+(0.1*(1-0.2)*0.25)+((1-0.1)*0.2*0.25)\n",
        "print(f'Вероятность, что из строя вышло только две детали {PB}')"
      ],
      "metadata": {
        "colab": {
          "base_uri": "https://localhost:8080/"
        },
        "id": "qrZ-Gsb5suA1",
        "outputId": "fbb61609-da43-4cb6-8b5f-d4db64d10146"
      },
      "execution_count": 24,
      "outputs": [
        {
          "output_type": "stream",
          "name": "stdout",
          "text": [
            "Вероятность, что из строя вышло только две детали 0.08000000000000002\n"
          ]
        }
      ]
    },
    {
      "cell_type": "markdown",
      "source": [
        "P(C) - из строя вышла хотя бы одна деталь"
      ],
      "metadata": {
        "id": "DuwDtbSttivM"
      }
    },
    {
      "cell_type": "code",
      "source": [
        "PC = 1- 0.9 * 0.8 * 0.75\n",
        "print(f'Вероятность, что из строя вышла хотя бы одна деталь {PC}')"
      ],
      "metadata": {
        "colab": {
          "base_uri": "https://localhost:8080/"
        },
        "id": "Z-Lftq_ktnPz",
        "outputId": "45d6c7f8-4b1f-4f1c-af28-f705eb72b706"
      },
      "execution_count": 25,
      "outputs": [
        {
          "output_type": "stream",
          "name": "stdout",
          "text": [
            "Вероятность, что из строя вышла хотя бы одна деталь 0.45999999999999996\n"
          ]
        }
      ]
    }
  ]
}