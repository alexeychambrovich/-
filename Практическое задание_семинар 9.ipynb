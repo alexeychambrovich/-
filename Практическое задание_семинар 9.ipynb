{
 "cells": [
  {
   "cell_type": "code",
   "execution_count": 1,
   "id": "003a4681",
   "metadata": {},
   "outputs": [],
   "source": [
    "import numpy as np\n",
    "import matplotlib.pyplot as plt\n",
    "from sklearn.linear_model import LinearRegression"
   ]
  },
  {
   "cell_type": "markdown",
   "id": "c0b88e8c",
   "metadata": {},
   "source": [
    "Задача 1 Даны значения величины заработной платы заемщиков банка (zp) и значения их поведенческого кредитного скоринга (ks): \n",
    "zp = [35, 45, 190, 200, 40, 70, 54, 150, 120, 110],\n",
    "ks = [401, 574, 874, 919, 459, 739, 653, 902, 746, 832]. \n",
    "Используя математические операции, посчитать коэффициенты линейной регрессии, приняв за X заработную плату\n",
    "(то есть, zp - признак), а за y - значения скорингового балла (то есть, ks - целевая переменная). Произвести расчет как с использованием intercept, так и без."
   ]
  },
  {
   "cell_type": "code",
   "execution_count": 2,
   "id": "ef6f130b",
   "metadata": {},
   "outputs": [],
   "source": [
    "zp = np.array([35, 45, 190, 200, 40, 70, 54, 150, 120, 110])\n",
    "ks = np.array([401, 574, 874, 919, 459, 739, 653, 902, 746, 832])"
   ]
  },
  {
   "cell_type": "code",
   "execution_count": 6,
   "id": "b18a2ee2",
   "metadata": {},
   "outputs": [
    {
     "data": {
      "text/plain": [
       "2.6205388824027653"
      ]
     },
     "execution_count": 6,
     "metadata": {},
     "output_type": "execute_result"
    }
   ],
   "source": [
    "n = len(zp)\n",
    "b1 = (n * np.sum(zp * ks) - np.sum(zp) * np.sum(ks))/(n * np.sum(zp**2) - np.sum(zp)**2)\n",
    "b1"
   ]
  },
  {
   "cell_type": "code",
   "execution_count": 7,
   "id": "eaecc1da",
   "metadata": {},
   "outputs": [
    {
     "data": {
      "text/plain": [
       "2.620538882402765"
      ]
     },
     "execution_count": 7,
     "metadata": {},
     "output_type": "execute_result"
    }
   ],
   "source": [
    "b1 = (np.mean(zp * ks) - np.mean(zp) * np.mean(ks))/(np.mean(zp**2) - np.mean(zp)**2)\n",
    "b1"
   ]
  },
  {
   "cell_type": "code",
   "execution_count": 8,
   "id": "59294e69",
   "metadata": {},
   "outputs": [
    {
     "data": {
      "text/plain": [
       "444.1773573243596"
      ]
     },
     "execution_count": 8,
     "metadata": {},
     "output_type": "execute_result"
    }
   ],
   "source": [
    "b0 = np.mean(ks) - b1 * np.mean(zp)\n",
    "b0"
   ]
  },
  {
   "cell_type": "code",
   "execution_count": 11,
   "id": "7feddda8",
   "metadata": {},
   "outputs": [
    {
     "data": {
      "image/png": "[encoded data removed]",
      "text/plain": [
       "<Figure size 640x480 with 1 Axes>"
      ]
     },
     "metadata": {},
     "output_type": "display_data"
    }
   ],
   "source": [
    "plt.scatter(zp,ks)\n",
    "plt.plot(zp, b0 + b1 * zp)\n",
    "plt.show()"
   ]
  },
  {
   "cell_type": "code",
   "execution_count": 12,
   "id": "0f3bcc89",
   "metadata": {},
   "outputs": [
    {
     "data": {
      "text/plain": [
       "6470.414201176658"
      ]
     },
     "execution_count": 12,
     "metadata": {},
     "output_type": "execute_result"
    }
   ],
   "source": [
    "mse = ((ks - (b0 + b1 * zp))**2).sum() / n\n",
    "mse"
   ]
  },
  {
   "cell_type": "markdown",
   "id": "61441069",
   "metadata": {},
   "source": [
    "Вариант 2, Матричный метод расчета коэффициентов линейной регрессии.(без interсept)"
   ]
  },
  {
   "cell_type": "code",
   "execution_count": 29,
   "id": "8619d427",
   "metadata": {
    "scrolled": true
   },
   "outputs": [
    {
     "data": {
      "text/plain": [
       "(array([[ 35],\n",
       "        [ 45],\n",
       "        [190],\n",
       "        [200],\n",
       "        [ 40],\n",
       "        [ 70],\n",
       "        [ 54],\n",
       "        [150],\n",
       "        [120],\n",
       "        [110]]),\n",
       " array([[401],\n",
       "        [574],\n",
       "        [874],\n",
       "        [919],\n",
       "        [459],\n",
       "        [739],\n",
       "        [653],\n",
       "        [902],\n",
       "        [746],\n",
       "        [832]]))"
      ]
     },
     "execution_count": 29,
     "metadata": {},
     "output_type": "execute_result"
    }
   ],
   "source": [
    "zp = zp.reshape(10,1)\n",
    "ks = ks.reshape(10,1)\n",
    "zp, ks"
   ]
  },
  {
   "cell_type": "code",
   "execution_count": 30,
   "id": "fc5816a9",
   "metadata": {},
   "outputs": [
    {
     "data": {
      "text/plain": [
       "array([[5.88982042]])"
      ]
     },
     "execution_count": 30,
     "metadata": {},
     "output_type": "execute_result"
    }
   ],
   "source": [
    "B = np.dot(np.linalg.inv(np.dot(zp.T,zp)), zp.T @ ks)\n",
    "B"
   ]
  },
  {
   "cell_type": "code",
   "execution_count": 83,
   "id": "6d3dd05c",
   "metadata": {},
   "outputs": [
    {
     "data": {
      "text/plain": [
       "56516.85841571943"
      ]
     },
     "execution_count": 83,
     "metadata": {},
     "output_type": "execute_result"
    }
   ],
   "source": [
    "mse = np.sum(((5.88982042 * zp) - ks) ** 2) / n\n",
    "mse"
   ]
  },
  {
   "cell_type": "markdown",
   "id": "0d4b719f",
   "metadata": {},
   "source": [
    "Задача 2 Посчитать коэффициент линейной регрессии при заработной плате (zp), используя градиентный спуск (без intercept)."
   ]
  },
  {
   "cell_type": "code",
   "execution_count": 64,
   "id": "202bdb3e",
   "metadata": {},
   "outputs": [],
   "source": [
    "zp = np.array([35, 45, 190, 200, 40, 70, 54, 150, 120, 110])\n",
    "ks = np.array([401, 574, 874, 919, 459, 739, 653, 902, 746, 832])"
   ]
  },
  {
   "cell_type": "code",
   "execution_count": 65,
   "id": "c525f17a",
   "metadata": {},
   "outputs": [],
   "source": [
    "alpha = 1e-6\n",
    "B1 = 0.1"
   ]
  },
  {
   "cell_type": "code",
   "execution_count": 76,
   "id": "dd9ee475",
   "metadata": {},
   "outputs": [],
   "source": [
    "def mse(B1, y = ks, x = zp, n = 10):\n",
    "    return np.sum((B1 * x - y) ** 2) / n"
   ]
  },
  {
   "cell_type": "code",
   "execution_count": 81,
   "id": "bbd41aef",
   "metadata": {},
   "outputs": [
    {
     "name": "stdout",
     "output_type": "stream",
     "text": [
      "iteration: 0, B1 = 5.889820420132673, mse: 56516.85841571943\n",
      "iteration: 100, B1 = 5.889820420132673, mse: 56516.85841571943\n",
      "iteration: 200, B1 = 5.889820420132673, mse: 56516.85841571943\n",
      "iteration: 300, B1 = 5.889820420132673, mse: 56516.85841571943\n",
      "iteration: 400, B1 = 5.889820420132673, mse: 56516.85841571943\n",
      "iteration: 500, B1 = 5.889820420132673, mse: 56516.85841571943\n",
      "iteration: 600, B1 = 5.889820420132673, mse: 56516.85841571943\n",
      "iteration: 700, B1 = 5.889820420132673, mse: 56516.85841571943\n",
      "iteration: 800, B1 = 5.889820420132673, mse: 56516.85841571943\n",
      "iteration: 900, B1 = 5.889820420132673, mse: 56516.85841571943\n",
      "iteration: 1000, B1 = 5.889820420132673, mse: 56516.85841571943\n",
      "iteration: 1100, B1 = 5.889820420132673, mse: 56516.85841571943\n",
      "iteration: 1200, B1 = 5.889820420132673, mse: 56516.85841571943\n",
      "iteration: 1300, B1 = 5.889820420132673, mse: 56516.85841571943\n",
      "iteration: 1400, B1 = 5.889820420132673, mse: 56516.85841571943\n",
      "iteration: 1500, B1 = 5.889820420132673, mse: 56516.85841571943\n",
      "iteration: 1600, B1 = 5.889820420132673, mse: 56516.85841571943\n",
      "iteration: 1700, B1 = 5.889820420132673, mse: 56516.85841571943\n",
      "iteration: 1800, B1 = 5.889820420132673, mse: 56516.85841571943\n",
      "iteration: 1900, B1 = 5.889820420132673, mse: 56516.85841571943\n",
      "iteration: 2000, B1 = 5.889820420132673, mse: 56516.85841571943\n",
      "iteration: 2100, B1 = 5.889820420132673, mse: 56516.85841571943\n",
      "iteration: 2200, B1 = 5.889820420132673, mse: 56516.85841571943\n",
      "iteration: 2300, B1 = 5.889820420132673, mse: 56516.85841571943\n",
      "iteration: 2400, B1 = 5.889820420132673, mse: 56516.85841571943\n",
      "iteration: 2500, B1 = 5.889820420132673, mse: 56516.85841571943\n",
      "iteration: 2600, B1 = 5.889820420132673, mse: 56516.85841571943\n",
      "iteration: 2700, B1 = 5.889820420132673, mse: 56516.85841571943\n",
      "iteration: 2800, B1 = 5.889820420132673, mse: 56516.85841571943\n",
      "iteration: 2900, B1 = 5.889820420132673, mse: 56516.85841571943\n"
     ]
    }
   ],
   "source": [
    "for i in range(3000):\n",
    "    B1 -= alpha * (2/n) * np.sum((B1 * zp - ks) * zp)\n",
    "    if i % 100 == 0:\n",
    "        print('iteration: {i}, B1 = {B1}, mse: {mse}'.format(i = i, B1 = B1, mse = mse_(B1)))"
   ]
  }
 ],
 "metadata": {
  "kernelspec": {
   "display_name": "Python 3 (ipykernel)",
   "language": "python",
   "name": "python3"
  },
  "language_info": {
   "codemirror_mode": {
    "name": "ipython",
    "version": 3
   },
   "file_extension": ".py",
   "mimetype": "text/x-python",
   "name": "python",
   "nbconvert_exporter": "python",
   "pygments_lexer": "ipython3",
   "version": "3.10.9"
  }
 },
 "nbformat": 4,
 "nbformat_minor": 5
}
