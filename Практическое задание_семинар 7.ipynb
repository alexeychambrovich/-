{
 "cells": [
  {
   "cell_type": "code",
   "execution_count": 2,
   "id": "0e4d06ce",
   "metadata": {},
   "outputs": [],
   "source": [
    "import pandas as pd\n",
    "import numpy as np\n",
    "import scipy.stats as stats\n"
   ]
  },
  {
   "cell_type": "markdown",
   "id": "401c5584",
   "metadata": {},
   "source": [
    "Задача 1. Даны две независимые выборки. Не соблюдается условие нормальности\n",
    "x1 380,420, 290\n",
    "y1 140,360,200,900\n",
    "Сделайте вывод 140,360,200,900по результатам, полученным с помощью функции, имеются ли статистические различия между группами?"
   ]
  },
  {
   "cell_type": "code",
   "execution_count": 3,
   "id": "edf787f8",
   "metadata": {},
   "outputs": [],
   "source": [
    "x1 = np.array([380, 420, 290])"
   ]
  },
  {
   "cell_type": "code",
   "execution_count": 4,
   "id": "70fb03d5",
   "metadata": {},
   "outputs": [],
   "source": [
    "x2 = np.array([140, 360, 200, 900])"
   ]
  },
  {
   "cell_type": "code",
   "execution_count": 5,
   "id": "b690e575",
   "metadata": {},
   "outputs": [
    {
     "data": {
      "text/plain": [
       "MannwhitneyuResult(statistic=8.0, pvalue=0.6285714285714286)"
      ]
     },
     "execution_count": 5,
     "metadata": {},
     "output_type": "execute_result"
    }
   ],
   "source": [
    "stats.mannwhitneyu(x1, x2)"
   ]
  },
  {
   "cell_type": "markdown",
   "id": "e0e73056",
   "metadata": {},
   "source": [
    "pvalue > 0.05 Ститистически значимых различий нет"
   ]
  },
  {
   "cell_type": "markdown",
   "id": "3630c394",
   "metadata": {},
   "source": [
    "Задача 2. Исследовалось влияние препарата на уровень давления пациентов. Сначала измерялось давление до приема препарата, потом через 10 минут и через 30 минут. Есть ли статистически значимые различия между измерениями давления? В выборках не соблюдается условие нормальности.\n",
    "1е измерение до приема препарата: 150, 160, 165, 145, 155\n",
    "2е измерение через 10 минут: 140, 155, 150, 130, 135\n",
    "3е измерение через 30 минут: 130, 130, 120, 130, 125"
   ]
  },
  {
   "cell_type": "code",
   "execution_count": 6,
   "id": "a4cb2188",
   "metadata": {},
   "outputs": [],
   "source": [
    "test_1 = np.array([150, 160, 165, 145, 155])"
   ]
  },
  {
   "cell_type": "code",
   "execution_count": 7,
   "id": "3025db64",
   "metadata": {},
   "outputs": [],
   "source": [
    "test_2 = np.array([40, 155, 150, 130, 135])"
   ]
  },
  {
   "cell_type": "code",
   "execution_count": 8,
   "id": "62675056",
   "metadata": {},
   "outputs": [],
   "source": [
    "test_3 = np.array([130, 130, 120, 130, 125])"
   ]
  },
  {
   "cell_type": "code",
   "execution_count": 9,
   "id": "0277fb4f",
   "metadata": {},
   "outputs": [
    {
     "data": {
      "text/plain": [
       "FriedmanchisquareResult(statistic=8.315789473684218, pvalue=0.01564045054832703)"
      ]
     },
     "execution_count": 9,
     "metadata": {},
     "output_type": "execute_result"
    }
   ],
   "source": [
    "stats.friedmanchisquare(test_1, test_2, test_3)"
   ]
  },
  {
   "cell_type": "markdown",
   "id": "192ff7d5",
   "metadata": {},
   "source": [
    "pvalue < 0.05 статистически значимые различия есть"
   ]
  },
  {
   "cell_type": "markdown",
   "id": "3c7fdd92",
   "metadata": {},
   "source": [
    "Задача 3. Сравните 1 и 2 е измерения, предполагая, что 3го измерения через 30 минут не было. Есть ли статистически значимые различия между измерениями давления?"
   ]
  },
  {
   "cell_type": "code",
   "execution_count": 10,
   "id": "03e2015a",
   "metadata": {},
   "outputs": [
    {
     "data": {
      "text/plain": [
       "WilcoxonResult(statistic=0.0, pvalue=0.0625)"
      ]
     },
     "execution_count": 10,
     "metadata": {},
     "output_type": "execute_result"
    }
   ],
   "source": [
    " stats.wilcoxon(test_1, test_2)"
   ]
  },
  {
   "cell_type": "markdown",
   "id": "8509e9cb",
   "metadata": {},
   "source": [
    "pvalue > 0.05 статистически значимые различия между измерениями давления нет"
   ]
  },
  {
   "cell_type": "markdown",
   "id": "32fb65e0",
   "metadata": {},
   "source": [
    "Задача 4. Даны 3 группы учеников плавания. Не соблюдается условие нормальности.\n",
    "В 1 группе время на дистанцию 50 м составляют:56, 60, 62, 55, 71, 67, 59, 58, 64, 67\n",
    "Вторая группа : 57, 58, 69, 48, 72, 70, 68, 71, 50, 53\n",
    "Третья группа: 57, 67, 49, 48, 47, 55, 66, 51, 54\n",
    "Есть ли статистически значимые различия между группами?"
   ]
  },
  {
   "cell_type": "code",
   "execution_count": 11,
   "id": "14c263b4",
   "metadata": {},
   "outputs": [],
   "source": [
    "gr_1 = np.array([56, 60, 62, 55, 71, 67, 59, 58, 64, 67])"
   ]
  },
  {
   "cell_type": "code",
   "execution_count": 12,
   "id": "6e4ca958",
   "metadata": {},
   "outputs": [],
   "source": [
    "gr_2 = np.array([57, 58, 69, 48, 72, 70, 68, 71, 50, 53])"
   ]
  },
  {
   "cell_type": "code",
   "execution_count": 13,
   "id": "986414c5",
   "metadata": {},
   "outputs": [],
   "source": [
    "gr_3 = np.array([57, 67, 49, 48, 47, 55, 66, 51, 54])"
   ]
  },
  {
   "cell_type": "code",
   "execution_count": 14,
   "id": "972c5fea",
   "metadata": {},
   "outputs": [
    {
     "data": {
      "text/plain": [
       "KruskalResult(statistic=5.465564058257224, pvalue=0.0650380998590494)"
      ]
     },
     "execution_count": 14,
     "metadata": {},
     "output_type": "execute_result"
    }
   ],
   "source": [
    "stats.kruskal(gr_1, gr_2, gr_3)"
   ]
  },
  {
   "cell_type": "markdown",
   "id": "9f3cb160",
   "metadata": {},
   "source": [
    "pvalue > 0.05 статистически значимые различия между группами нет"
   ]
  },
  {
   "cell_type": "markdown",
   "id": "3ce4b677",
   "metadata": {},
   "source": [
    "Задача 5. Заявляется, что партия изготавливается со средним арифметическим 2,5 см. Проверить данную гипотезу, если известно, что размеры изделий подчинены нормальному закону распределения. Объем выборки 10, уровень статистической значимости 5%\n",
    "2.51, 2.35, 2.74, 2.56, 2.40, 2.36, 2.65, 2.7, 2.67, 2.34"
   ]
  },
  {
   "cell_type": "code",
   "execution_count": 17,
   "id": "d6660d7a",
   "metadata": {},
   "outputs": [],
   "source": [
    "a = np.array([2.51, 2.35, 2.74, 2.56, 2.40, 2.36, 2.65, 2.7, 2.67, 2.34])"
   ]
  },
  {
   "cell_type": "code",
   "execution_count": 19,
   "id": "cda49c9b",
   "metadata": {},
   "outputs": [
    {
     "data": {
      "text/plain": [
       "0.02472888888888891"
      ]
     },
     "execution_count": 19,
     "metadata": {},
     "output_type": "execute_result"
    }
   ],
   "source": [
    "D = np.var(a, ddof=1)\n",
    "D"
   ]
  },
  {
   "cell_type": "code",
   "execution_count": 20,
   "id": "f67853a6",
   "metadata": {},
   "outputs": [],
   "source": [
    "import scipy.stats as stats\n",
    "t = stats.t.ppf(0.975, 9)\n",
    "t = 2.262157"
   ]
  },
  {
   "cell_type": "code",
   "execution_count": 23,
   "id": "5615bf78",
   "metadata": {},
   "outputs": [
    {
     "data": {
      "text/plain": [
       "2.612492882311725"
      ]
     },
     "execution_count": 23,
     "metadata": {},
     "output_type": "execute_result"
    }
   ],
   "source": [
    "x_1 = 2.5 + t * np.sqrt(D/10)\n",
    "x_1"
   ]
  },
  {
   "cell_type": "code",
   "execution_count": 22,
   "id": "268a3a6a",
   "metadata": {},
   "outputs": [
    {
     "data": {
      "text/plain": [
       "2.387507117688275"
      ]
     },
     "execution_count": 22,
     "metadata": {},
     "output_type": "execute_result"
    }
   ],
   "source": [
    "x_2 = 2.5 - t * np.sqrt(D/10)\n",
    "x_1"
   ]
  },
  {
   "cell_type": "markdown",
   "id": "55a27f29",
   "metadata": {},
   "source": [
    "Среднее значение не попадает в критическую область, гипотеза подтверждается"
   ]
  }
 ],
 "metadata": {
  "kernelspec": {
   "display_name": "Python 3 (ipykernel)",
   "language": "python",
   "name": "python3"
  },
  "language_info": {
   "codemirror_mode": {
    "name": "ipython",
    "version": 3
   },
   "file_extension": ".py",
   "mimetype": "text/x-python",
   "name": "python",
   "nbconvert_exporter": "python",
   "pygments_lexer": "ipython3",
   "version": "3.10.9"
  }
 },
 "nbformat": 4,
 "nbformat_minor": 5
}
